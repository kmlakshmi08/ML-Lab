{
 "cells": [
  {
   "cell_type": "code",
   "execution_count": 14,
   "id": "62eca769-529f-4bac-b840-f49d32481ea1",
   "metadata": {},
   "outputs": [
    {
     "name": "stdout",
     "output_type": "stream",
     "text": [
      "path found ['S', 'A', 'C', 'G'] with cost6\n"
     ]
    },
    {
     "data": {
      "text/plain": [
       "['S', 'A', 'C', 'G']"
      ]
     },
     "execution_count": 14,
     "metadata": {},
     "output_type": "execute_result"
    }
   ],
   "source": [
    "def a_star(graph,start,goal,hueristic):\n",
    "    open_list=[start]\n",
    "    closed_list=set()\n",
    "    g={start:0}\n",
    "    parents={start:start}\n",
    "\n",
    "    while open_list:\n",
    "        open_list.sort(key=lambda v:g[v]+hueristic[v])\n",
    "        n=open_list.pop(0)\n",
    "        \n",
    "        if n==goal:\n",
    "            reconst_path=[]\n",
    "            \n",
    "            while parents[n] !=n:\n",
    "                reconst_path.append(n)\n",
    "                n=parents[n]\n",
    "                \n",
    "            reconst_path.append(start)\n",
    "            reconst_path.reverse()\n",
    "                \n",
    "            print(f'path found {reconst_path} with cost{g[goal]}')\n",
    "            return reconst_path\n",
    "        \n",
    "        for (m,weight) in graph[n]:\n",
    "            if m not in closed_list and m not in open_list:\n",
    "                open_list.append(m)\n",
    "                parents[m]=n\n",
    "                g[m]=g[n]+weight\n",
    "            else:\n",
    "                if g[m]>g[n]+weight:\n",
    "                    g[m]=g[n]+weight\n",
    "                    parents[m]=n\n",
    "                \n",
    "                if m in closed_list:\n",
    "                    closed_list.remove(m)\n",
    "                    open_list.append(m)\n",
    "        \n",
    "        closed_list.add(n)\n",
    "\n",
    "graph={\n",
    "    'S': [('A', 1), ('G', 10)],\n",
    "    'A': [('B', 2), ('C', 1)],\n",
    "    'B': [('D', 5)],\n",
    "    'C': [('D', 3),('G', 4)],\n",
    "    'D': [('G', 2)]\n",
    "}\n",
    "\n",
    "\n",
    "\n",
    "hueristic={\n",
    "    'A': 3, 'B': 4, 'C': 2, 'D': 6, 'G': 0, 'S': 5}\n",
    "\n",
    "a_star(graph,start,goal,hueristic)"
   ]
  }
 ],
 "metadata": {
  "kernelspec": {
   "display_name": "Python 3 (ipykernel)",
   "language": "python",
   "name": "python3"
  },
  "language_info": {
   "codemirror_mode": {
    "name": "ipython",
    "version": 3
   },
   "file_extension": ".py",
   "mimetype": "text/x-python",
   "name": "python",
   "nbconvert_exporter": "python",
   "pygments_lexer": "ipython3",
   "version": "3.11.7"
  }
 },
 "nbformat": 4,
 "nbformat_minor": 5
}
